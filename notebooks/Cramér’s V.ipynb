{
 "cells": [
  {
   "cell_type": "code",
   "execution_count": 1,
   "id": "8590c862-c951-4c38-a509-736928d3933e",
   "metadata": {},
   "outputs": [
    {
     "name": "stdout",
     "output_type": "stream",
     "text": [
      "Variables whose structural-zero flag correlates with distress (V > 0.10 & p < 0.05):\n",
      "variable  cramers_v       p_value\n",
      "     A30   0.154063 4.811851e-125\n",
      "     A33   0.123066  1.730725e-80\n"
     ]
    }
   ],
   "source": [
    "import pandas as pd\n",
    "import numpy as np\n",
    "from scipy.stats import chi2_contingency\n",
    "from pathlib import Path\n",
    "\n",
    "# ---------- 参数 ----------\n",
    "CSV_PATH = Path(\"cvm_indicators_dataset_2011-2021.csv\")\n",
    "TARGET    = \"LABEL\"          # 1 = distress\n",
    "META_COLS = {\"ID\", \"QUARTER\", TARGET}\n",
    "\n",
    "# ---------- 工具函数 ----------\n",
    "def cramers_v(x, y):\n",
    "    \"\"\"Compute Cramér's V for two binary (0/1) vectors.\"\"\"\n",
    "    tbl = pd.crosstab(x, y)\n",
    "    chi2 = chi2_contingency(tbl, correction=False)[0]\n",
    "    n = tbl.values.sum()\n",
    "    return np.sqrt(chi2 / (n * (min(tbl.shape) - 1)))\n",
    "\n",
    "# ---------- 读取数据 ----------\n",
    "df = pd.read_csv(CSV_PATH)\n",
    "\n",
    "# ---------- 逐列检验 ----------\n",
    "results = []\n",
    "for col in df.columns.difference(META_COLS):\n",
    "    # 仅在列里至少出现 1 个 0 和 1 个非 0 时才检验\n",
    "    flag = (df[col] == 0).astype(int)\n",
    "    if flag.nunique() < 2:\n",
    "        continue                    # 全列无结构 0\n",
    "    if df[TARGET].nunique() < 2:    # 极端情况：全 0 或全 1\n",
    "        continue\n",
    "    chi2, p, *_ = chi2_contingency(pd.crosstab(flag, df[TARGET]), correction=False)\n",
    "    v = cramers_v(flag, df[TARGET])\n",
    "    results.append({\"variable\": col, \"cramers_v\": v, \"p_value\": p})\n",
    "\n",
    "res_df = (pd.DataFrame(results)\n",
    "          .query(\"cramers_v > 0.10 and p_value < 0.05\")\n",
    "          .sort_values(\"cramers_v\", ascending=False))\n",
    "\n",
    "print(\"Variables whose structural-zero flag correlates with distress (V > 0.10 & p < 0.05):\")\n",
    "print(res_df.to_string(index=False))\n"
   ]
  },
  {
   "cell_type": "code",
   "execution_count": null,
   "id": "afbc0870-5357-4481-a8f8-5aab5e58858d",
   "metadata": {},
   "outputs": [],
   "source": []
  }
 ],
 "metadata": {
  "kernelspec": {
   "display_name": "Python (GPU)",
   "language": "python",
   "name": "gpu_env"
  },
  "language_info": {
   "codemirror_mode": {
    "name": "ipython",
    "version": 3
   },
   "file_extension": ".py",
   "mimetype": "text/x-python",
   "name": "python",
   "nbconvert_exporter": "python",
   "pygments_lexer": "ipython3",
   "version": "3.10.18"
  }
 },
 "nbformat": 4,
 "nbformat_minor": 5
}
